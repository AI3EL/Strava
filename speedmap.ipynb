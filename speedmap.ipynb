{
 "cells": [
  {
   "cell_type": "code",
   "execution_count": null,
   "id": "union-allen",
   "metadata": {},
   "outputs": [],
   "source": [
    "import pandas as pd\n",
    "import numpy as np\n",
    "\n",
    "import folium \n",
    "from matplotlib.pyplot import cm\n",
    "import matplotlib\n",
    "\n",
    "import gpxpy\n",
    "import gpxpy.gpx"
   ]
  },
  {
   "cell_type": "code",
   "execution_count": null,
   "id": "indoor-catering",
   "metadata": {},
   "outputs": [],
   "source": [
    "file_name = 'data/gpx/Course_pied_le_soir.gpx'"
   ]
  },
  {
   "cell_type": "code",
   "execution_count": null,
   "id": "announced-congo",
   "metadata": {},
   "outputs": [],
   "source": [
    "def parse_gpx(file_name):\n",
    "    gpx = gpxpy.parse(open(file_name)) \n",
    "\n",
    "    track = gpx.tracks[0]\n",
    "    segment = track.segments[0]\n",
    "    data = []\n",
    "    segment_length = segment.length_3d()\n",
    "    for point_idx, point in enumerate(segment.points):\n",
    "        data.append([point.longitude, point.latitude,point.elevation,\n",
    "        point.time, segment.get_speed(point_idx)*3.6])\n",
    "\n",
    "    columns = ['Longitude', 'Latitude', 'Altitude', 'Time', 'Speed']\n",
    "    return pd.DataFrame(data, columns=columns)\n",
    "\n",
    "gpx_df = parse_gpx(file_name)\n"
   ]
  },
  {
   "cell_type": "code",
   "execution_count": null,
   "id": "assumed-sunglasses",
   "metadata": {},
   "outputs": [],
   "source": [
    "gpx_df['RollSpeed'] = gpx_df['Speed'].rolling(10, min_periods= 0).mean()"
   ]
  },
  {
   "cell_type": "code",
   "execution_count": null,
   "id": "bottom-arnold",
   "metadata": {},
   "outputs": [],
   "source": [
    "mymap = folium.Map(location=[gpx_df.Latitude.mean(), gpx_df.Longitude.mean()], zoom_start=12, tiles=None)\n",
    "folium.TileLayer('openstreetmap', name='OpenStreet Map').add_to(mymap)\n",
    "folium.TileLayer('https://server.arcgisonline.com/ArcGIS/rest/services/NatGeo_World_Map/MapServer/tile/{z}/{y}/{x}', attr='Tiles &copy; Esri &mdash; National Geographic, Esri, DeLorme, NAVTEQ, UNEP-WCMC, USGS, NASA, ESA, METI, NRCAN, GEBCO, NOAA, iPC', name='Nat Geo Map').add_to(mymap)\n",
    "folium.TileLayer('http://tile.stamen.com/terrain/{z}/{x}/{y}.jpg', attr='terrain-bcg', name='Terrain Map').add_to(mymap)"
   ]
  },
  {
   "cell_type": "code",
   "execution_count": null,
   "id": "confidential-employer",
   "metadata": {},
   "outputs": [],
   "source": [
    "def make_get_speed_color(max_speed=20, min_speed=5, cmap=cm.get_cmap('inferno')):\n",
    "    def get_speed_color(speed):\n",
    "        intensity = min(1, max(0, (speed-min_speed)/max_speed))\n",
    "        rgba = cmap(int(intensity*cmap.N))\n",
    "        return matplotlib.colors.rgb2hex(rgba)\n",
    "    return get_speed_color"
   ]
  },
  {
   "cell_type": "code",
   "execution_count": null,
   "id": "handy-spank",
   "metadata": {
    "scrolled": false
   },
   "outputs": [],
   "source": [
    "speed_col_conv = make_get_speed_color()\n",
    "for i in range(gpx_df.shape[0]-1):\n",
    "    a = gpx_df.iloc[i][['Latitude', 'Longitude']].tolist()\n",
    "    b = gpx_df.iloc[i+1][['Latitude', 'Longitude']].tolist()\n",
    "    speed = gpx_df.iloc[i]['RollSpeed']\n",
    "    folium.PolyLine([a, b], color=speed_col_conv(speed), weight=7, opacity=1).add_to(mymap)\n"
   ]
  },
  {
   "cell_type": "code",
   "execution_count": null,
   "id": "legislative-salad",
   "metadata": {
    "scrolled": true
   },
   "outputs": [],
   "source": [
    "mymap"
   ]
  },
  {
   "cell_type": "code",
   "execution_count": null,
   "id": "portable-bleeding",
   "metadata": {},
   "outputs": [],
   "source": [
    "cm.get_cmap('inferno')"
   ]
  },
  {
   "cell_type": "markdown",
   "id": "unique-nurse",
   "metadata": {},
   "source": [
    "---\n",
    "\n",
    "End Of Notebook\n",
    "\n",
    "---"
   ]
  }
 ],
 "metadata": {
  "kernelspec": {
   "display_name": "local-venw",
   "language": "python",
   "name": "local-venw"
  },
  "language_info": {
   "codemirror_mode": {
    "name": "ipython",
    "version": 3
   },
   "file_extension": ".py",
   "mimetype": "text/x-python",
   "name": "python",
   "nbconvert_exporter": "python",
   "pygments_lexer": "ipython3",
   "version": "3.8.5"
  }
 },
 "nbformat": 4,
 "nbformat_minor": 5
}
